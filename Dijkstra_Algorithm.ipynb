{
 "cells": [
  {
   "cell_type": "code",
   "execution_count": 1,
   "id": "ee710579-9433-4b32-8328-f3fcdd2bb305",
   "metadata": {
    "jupyter": {
     "source_hidden": true
    },
    "tags": []
   },
   "outputs": [],
   "source": [
    "import matplotlib.pyplot as plt\n",
    "import ipywidgets as widgets\n",
    "import networkx as nx\n",
    "import pandas as pd\n",
    "import functools\n",
    "\n",
    "from IPython.display import display, Markdown\n",
    "from dijkstra_algorithm import dijkstra_algorithm"
   ]
  },
  {
   "cell_type": "code",
   "execution_count": 2,
   "id": "f3ad6841-ee00-426e-bb56-bd6e2a778d59",
   "metadata": {
    "tags": []
   },
   "outputs": [],
   "source": [
    "## config\n",
    "start_node_color = 'green'\n",
    "end_node_color = 'red' \n",
    "standard_node_color = 'white'\n",
    "\n",
    "#global variables get changed in the following functions\n",
    "#scale_distances_for_text_pos()\n",
    "#undo_scale_distances_for_text_pos()\n",
    "distance_label_node_up = 2.5\n",
    "distance_label_node_down = 3.1 \n",
    "distance_label_node_left = 1.5\n",
    "distance_label_node_right = 1.5\n",
    "distance_between_labels = 1.5\n",
    "\n",
    "#Output Definitions\n",
    "options_original = {\n",
    "    'font_size': 30,\n",
    "    'node_size': 3000,\n",
    "    'with_labels': True,\n",
    "    'node_color': 'white',\n",
    "    'edgecolors': 'black',\n",
    "    'linewidths': 5,\n",
    "    'width': 5,\n",
    "    }\n",
    "\n",
    "options_dijkstra = {\n",
    "    'font_size': 30,\n",
    "    'node_size': 3000,\n",
    "    'with_labels': True,\n",
    "    'edgecolors': 'black',\n",
    "    'linewidths': 5,\n",
    "    'width': 5\n",
    "    }\n",
    "\n",
    "edge_label_options = {\n",
    "    'font_size': 25,\n",
    "    'font_color': 'black',\n",
    "    'label_pos': 0.5,\n",
    "    'rotate': False,\n",
    "    }\n",
    "\n",
    "#adjust Setting for Plot\n",
    "plt.rcParams['figure.figsize']= [12,8] \n",
    "plt.rcParams['figure.dpi'] = 60"
   ]
  },
  {
   "cell_type": "code",
   "execution_count": 3,
   "id": "57fc14b4-beb2-4af7-8d5b-79d3fc0acfc7",
   "metadata": {
    "tags": []
   },
   "outputs": [],
   "source": [
    "# observe/on_click functions\n",
    "def display_uploaded_graph(change, Graph, display_input, display_dijkstra):\n",
    "    # clear old inputs\n",
    "    display_input.clear_output()\n",
    "    display_dijkstra.clear_output()\n",
    "    Graph.clear()\n",
    "\n",
    "    # read txt-Data and execute as code, get some values\n",
    "    start_node, end_node, uploaded_edges, pos = read_uploaded_variables(change)\n",
    "\n",
    "    # add Edges to Graph\n",
    "    Graph.add_weighted_edges_from(uploaded_edges)\n",
    "    # get edge Labels to draw them on plot\n",
    "    edge_labels = nx.get_edge_attributes(Graph, 'weight')\n",
    "\n",
    "    # draw Graph on plot\n",
    "    nx.draw_networkx(Graph, pos, **options_original)\n",
    "    nx.draw_networkx_edge_labels(Graph, pos, edge_labels=edge_labels, **edge_label_options)\n",
    "\n",
    "    end_node_slider, start_node_slider = create_start_end_node_sliders(Graph, start_node)\n",
    "\n",
    "    plt.axis('off')\n",
    "    with display_input:\n",
    "        display(Markdown('## Original Network'))\n",
    "        plt.show()\n",
    "        display(start_node_slider)\n",
    "        display(end_node_slider)\n",
    "\n",
    "    start_node_slider.observe(functools.partial(output_dijkstra, Graph=Graph, \n",
    "                                                start_node_slider=start_node_slider,\n",
    "                                                end_node_slider=end_node_slider, \n",
    "                                                display_dijkstra=display_dijkstra,\n",
    "                                                pos=pos, uploaded_edges=uploaded_edges), \n",
    "                              names='value')\n",
    "    end_node_slider.observe(functools.partial(output_dijkstra, Graph=Graph, \n",
    "                                              start_node_slider=start_node_slider,\n",
    "                                              end_node_slider=end_node_slider, \n",
    "                                              display_dijkstra=display_dijkstra,\n",
    "                                              pos=pos, uploaded_edges=uploaded_edges), \n",
    "                            names='value')\n",
    "    # change value to activate observe\n",
    "    end_node_slider.value = end_node\n",
    "\n",
    "\n",
    "def output_dijkstra(change, Graph, start_node_slider, end_node_slider, display_dijkstra, pos, uploaded_edges):\n",
    "    \n",
    "    # labels to each node {node : [label0, label1, ...]}\n",
    "    node_to_labels = {} \n",
    "    old_selected_nodes = []\n",
    "\n",
    "    display_dijkstra.clear_output()\n",
    "\n",
    "    # dijkstra Algorithm\n",
    "    node_to_node_to_distance, list_dfs = dijkstra_algorithm(Graph, start_node_slider.value)\n",
    "    \n",
    "    # get data for drawing the plots\n",
    "    color_nodes = define_node_colors(Graph, end_node_slider, start_node_slider)\n",
    "    edge_labels = nx.get_edge_attributes(Graph, 'weight')\n",
    "\n",
    "    # draw plot for each node added to path\n",
    "    for counter, selected_node in enumerate(node_to_node_to_distance):\n",
    "        # get list of previous selected_ nodes\n",
    "        old_selected_nodes.append(selected_node)\n",
    "        \n",
    "        # draw graph\n",
    "        nx.draw_networkx(Graph, pos, **options_dijkstra, node_color=color_nodes)\n",
    "        nx.draw_networkx_edge_labels(Graph, pos, edge_labels=edge_labels, **edge_label_options)\n",
    "\n",
    "        # scale distances depending on the position scale\n",
    "        if counter == 0:\n",
    "            scale_distances_for_text_pos(pos)\n",
    "\n",
    "        # output of old changes\n",
    "        draw_old_labels(node_to_labels, old_selected_nodes, pos, selected_node)\n",
    "        # output new changes\n",
    "        node_to_labels = draw_new_labels(node_to_node_to_distance, node_to_labels, \n",
    "                                             pos, selected_node, start_node_slider.value)\n",
    "\n",
    "        # at end, reset scaling of text position to original\n",
    "        if counter == len(node_to_node_to_distance) - 1:\n",
    "            undo_scale_distances_for_text_pos(pos)\n",
    "\n",
    "        plt.axis('off')\n",
    "        with display_dijkstra:\n",
    "            if counter == 0:\n",
    "                display(Markdown('## ' + 'Start Graph'))\n",
    "            else:\n",
    "                display(Markdown('## ' + str(counter + 1) + '. Iteration'))\n",
    "                if len(list_dfs[counter - 1] != 0):\n",
    "                    display(list_dfs[counter - 1].style.hide_index())\n",
    "            plt.show()\n",
    "\n",
    "    df_paths = shortest_path_to_all_nodes(Graph, start_node_slider.value, node_to_labels)\n",
    "    with display_dijkstra:\n",
    "        display(Markdown('### The shortest path from Node ' + str(start_node_slider.value) + ' to Node ' + str(\n",
    "            end_node_slider.value) + ' is ' + node_to_labels[end_node_slider.value][-1].split('(')[0] + ' Units long.'))\n",
    "        display(df_paths.style.hide_index())\n",
    "    "
   ]
  },
  {
   "cell_type": "code",
   "execution_count": 4,
   "id": "31b92ec8-fba3-4115-a7dd-9f604d3697f2",
   "metadata": {
    "tags": []
   },
   "outputs": [],
   "source": [
    "# functions to shorten code\n",
    "def read_uploaded_variables(change):\n",
    "    # read txt-Data and execute as code, get some values\n",
    "    for key in change['new']:\n",
    "        string = change['new'][key]['content'].decode('utf-8')\n",
    "        var_to_value = {}\n",
    "        exec(string, var_to_value)\n",
    "\n",
    "        # get variables\n",
    "        pos = var_to_value['pos']\n",
    "        uploaded_edges = var_to_value['edges']\n",
    "        start_node = var_to_value['start_node']\n",
    "        end_node = var_to_value['end_node']\n",
    "    return start_node, end_node, uploaded_edges, pos\n",
    "\n",
    "\n",
    "def create_start_end_node_sliders(Graph, start_node):\n",
    "    # definiton slider\n",
    "    start_node_slider = widgets.IntSlider(value=start_node, min=min(Graph.nodes), max=max(Graph.nodes),\n",
    "                                          description='Startnode:', continuous_update=False)\n",
    "    # value gets change later to end_node to trigger observe function\n",
    "    end_node_slider = widgets.IntSlider(value=start_node, min=min(Graph.nodes), max=max(Graph.nodes),\n",
    "                                        description='Endnode:', continuous_update=False)\n",
    "    return end_node_slider, start_node_slider\n",
    "\n",
    "\n",
    "def define_node_colors(Graph, end_node_slider, start_node_slider):\n",
    "    color_nodes = []\n",
    "    # define color start and end_node\n",
    "    for node in Graph.nodes:\n",
    "        if start_node_slider.value == node:\n",
    "            color_nodes.append(start_node_color)\n",
    "        elif end_node_slider.value == node:\n",
    "            color_nodes.append(end_node_color)\n",
    "        else:\n",
    "            color_nodes.append(standard_node_color)\n",
    "    return color_nodes\n",
    "\n",
    "\n",
    "def shortest_path_to_all_nodes(Graph, start_node, node_to_labels):\n",
    "    info_paths = []\n",
    "\n",
    "    # find shortest path to every node \n",
    "    for goal_node in Graph.nodes():\n",
    "        if goal_node == start_node:\n",
    "            continue\n",
    "        else:\n",
    "            node = goal_node\n",
    "            # build path in a string 'start_node-node-...-end_node'\n",
    "            path_text = str(goal_node)\n",
    "            # while path doesnt't go from start_node to end_nod \n",
    "            while node != start_node:\n",
    "\n",
    "                # get last label of node \n",
    "                label = node_to_labels[node][-1]\n",
    "\n",
    "                # get node and distance from start node to goal node from string\n",
    "                if node == goal_node:\n",
    "                    distance = label.split('(')[0]\n",
    "                # get node, which edge led to our node\n",
    "                node = int(label.split('(')[1].split(')')[0])\n",
    "\n",
    "                path_text = str(node) + '-' + path_text\n",
    "\n",
    "            # save data to the path\n",
    "            info_paths.append(['Node ' + str(goal_node), distance, path_text])\n",
    "\n",
    "    end_path_id = 0\n",
    "    info_paths = sorted(info_paths, key=lambda x: x[end_path_id])\n",
    "    df_paths = pd.DataFrame(info_paths, columns=['To', 'Distance', 'Path'])\n",
    "    return df_paths\n",
    "\n",
    "\n",
    "def get_text_pos(pos, node, number_labels=0):\n",
    "    x_koord_id = 0\n",
    "    y_koord_id = 1\n",
    "    line_x_pos = None\n",
    "    line_y_pos = None\n",
    "\n",
    "    min_y_pos, max_y_pos, min_x_pos, max_x_pos = get_outer_coordinates(pos)\n",
    "    y_middle = min_y_pos + (max_y_pos - min_y_pos) / 2\n",
    "\n",
    "    # Check if node is on the left or right outer side\n",
    "    if pos[node][x_koord_id] == min_x_pos or pos[node][x_koord_id] == max_x_pos:\n",
    "\n",
    "        # y position on same hight as node and distance to the already existing labels\n",
    "        text_y_pos = pos[node][y_koord_id] + number_labels * distance_between_labels\n",
    "        line_y_pos = text_y_pos - distance_between_labels\n",
    "\n",
    "        # adust x Koordinate of label depending on which side the node is\n",
    "        if pos[node][x_koord_id] == min_x_pos:\n",
    "            text_alignment = 'right'\n",
    "            text_x_pos = pos[node][x_koord_id] - distance_label_node_left\n",
    "        elif pos[node][x_koord_id] == max_x_pos:\n",
    "            text_x_pos = pos[node][x_koord_id] + distance_label_node_left\n",
    "            text_alignment = 'left'\n",
    "    else:\n",
    "        # x-coordinate is same as node\n",
    "        text_x_pos = pos[node][x_koord_id]\n",
    "        text_alignment = 'center'\n",
    "\n",
    "        # label get positioned below/above node depending on y-coordinate\n",
    "        # cross out line same position as previous label\n",
    "        if pos[node][y_koord_id] < y_middle:\n",
    "            text_y_pos = pos[node][y_koord_id] - distance_label_node_down - number_labels * distance_between_labels\n",
    "            line_y_pos = text_y_pos + distance_between_labels\n",
    "        elif pos[node][y_koord_id] >= y_middle:\n",
    "            text_y_pos = pos[node][y_koord_id] + distance_label_node_up + number_labels * distance_between_labels\n",
    "            line_y_pos = text_y_pos - distance_between_labels\n",
    "\n",
    "    # if other labels on node cross the last label out\n",
    "    if number_labels == None:\n",
    "        return text_x_pos, text_y_pos, None, None\n",
    "    else:\n",
    "        line_x_pos = text_x_pos\n",
    "        return text_x_pos, text_y_pos, line_y_pos, line_x_pos, text_alignment\n",
    "\n",
    "\n",
    "# get outer coordinate of all 4 directions\n",
    "def get_outer_coordinates(pos):\n",
    "    x_koord_id = 0\n",
    "    y_koord_id = 1\n",
    "    min_y_pos = min(pos.values(), key=lambda x: x[y_koord_id])[y_koord_id]\n",
    "    max_y_pos = max(pos.values(), key=lambda x: x[y_koord_id])[y_koord_id]\n",
    "    min_x_pos = min(pos.values(), key=lambda x: x[x_koord_id])[x_koord_id]\n",
    "    max_x_pos = max(pos.values(), key=lambda x: x[x_koord_id])[x_koord_id]\n",
    "    return min_y_pos, max_y_pos, min_x_pos, max_x_pos\n",
    "\n",
    "\n",
    "def scale_distances_for_text_pos(pos):\n",
    "    # change global variables\n",
    "    global distance_label_node_up\n",
    "    global distance_label_node_down\n",
    "    global distance_label_node_left\n",
    "    global distance_label_node_right\n",
    "    global distance_between_labels\n",
    "\n",
    "    standard_axis_length = 20\n",
    "\n",
    "    # get outer coordinates of all 4 directions\n",
    "    min_y_pos, max_y_pos, min_x_pos, max_x_pos = get_outer_coordinates(pos)\n",
    "    # maximal distance in an axis\n",
    "    x_diff = max_x_pos - min_x_pos\n",
    "    y_diff = max_y_pos - min_y_pos\n",
    "\n",
    "    # adjust distance to y-axis\n",
    "    distance_label_node_up *= y_diff / standard_axis_length\n",
    "    distance_label_node_down *= y_diff / standard_axis_length\n",
    "    distance_label_node_left *= x_diff / standard_axis_length\n",
    "    distance_label_node_right *= x_diff / standard_axis_length\n",
    "    distance_between_labels *= y_diff / standard_axis_length\n",
    "\n",
    "\n",
    "def undo_scale_distances_for_text_pos(pos):\n",
    "    # change global variables\n",
    "    global distance_label_node_up\n",
    "    global distance_label_node_down\n",
    "    global distance_label_node_left\n",
    "    global distance_label_node_right\n",
    "    global distance_between_labels\n",
    "\n",
    "    standard_axis_length = 20\n",
    "\n",
    "    # get outer coordinates of all 4 directions\n",
    "    min_y_pos, max_y_pos, min_x_pos, max_x_pos = get_outer_coordinates(pos)\n",
    "    # max distance in an axis\n",
    "    x_diff = max_x_pos - min_x_pos\n",
    "    y_diff = max_y_pos - min_y_pos\n",
    "\n",
    "    # undo scale\n",
    "    distance_label_node_up /= y_diff / standard_axis_length\n",
    "    distance_label_node_down /= y_diff / standard_axis_length\n",
    "    distance_label_node_left /= x_diff / standard_axis_length\n",
    "    distance_label_node_right /= x_diff / standard_axis_length\n",
    "    distance_between_labels /= y_diff / standard_axis_length\n",
    "\n",
    "\n",
    "def draw_new_labels(node_to_node_to_distance, node_to_labels, pos, selected_node, start_node):\n",
    "    node_to_labels_copy = node_to_labels.copy()\n",
    "\n",
    "    # nodes, which get better values from edges that leave selected_node\n",
    "    for node, distance in node_to_node_to_distance[selected_node].items():\n",
    "        # label of start_node is different from rest\n",
    "        label = distance if selected_node == 0 else str(distance) + '(' + str(selected_node) + ')'\n",
    "\n",
    "        # differentiate first from further labels on node\n",
    "        if node in node_to_labels:\n",
    "            number_labels = len(node_to_labels[node])\n",
    "            node_to_labels_copy[node].append(label)\n",
    "        elif node not in node_to_labels:\n",
    "            number_labels = 0\n",
    "            node_to_labels_copy[node] = [label]\n",
    "\n",
    "        # draw text on plot\n",
    "        text_x_pos, text_y_pos, line_y_pos, line_x_pos, text_alignment = get_text_pos(pos, node, number_labels)\n",
    "        plt.text(text_x_pos, text_y_pos, label, fontsize=20, horizontalalignment=text_alignment,\n",
    "                 color='orange', bbox=dict(facecolor='white', edgecolor='none'))\n",
    "\n",
    "        # old text gets crossed out\n",
    "        if node in node_to_labels:\n",
    "            plt.text(line_x_pos, line_y_pos, '\\u0336'.join((int(len(label) * 1.8) * ' ')) + '\\u0336', fontsize=20,\n",
    "                     horizontalalignment=text_alignment, color='orange')\n",
    "    return node_to_labels_copy\n",
    "\n",
    "\n",
    "def draw_old_labels(node_to_labels, old_selected_nodes, pos, selected_node):\n",
    "    # loop over every label of ever already selected node\n",
    "    for node_old, labels in node_to_labels.items():\n",
    "        for label_counter, label in enumerate(labels):\n",
    "            # check what box color is needed\n",
    "            if node_old == selected_node and label == labels[-1]:\n",
    "                box_color = 'orange'\n",
    "            elif node_old in old_selected_nodes and label == labels[-1]:\n",
    "                box_color = 'black'\n",
    "            elif node_old not in old_selected_nodes or label != labels[-1]:\n",
    "                box_color = 'none'\n",
    "\n",
    "            # draw text on plot\n",
    "            text_x_pos, text_y_pos, line_y_pos, line_x_pos, text_alignment = get_text_pos(pos, node_old, label_counter)\n",
    "            plt.text(text_x_pos, text_y_pos, label, fontsize=20, horizontalalignment=text_alignment, color='black',\n",
    "                     bbox=dict(facecolor='white', edgecolor=box_color))\n",
    "\n",
    "            # old text gets crossed out\n",
    "            if label != labels[0]:\n",
    "                plt.text(line_x_pos, line_y_pos, '\\u0336'.join((int(len(label) * 1.8) * ' ')) + '\\u0336', fontsize=20,\n",
    "                         horizontalalignment=text_alignment)\n"
   ]
  },
  {
   "cell_type": "code",
   "execution_count": 5,
   "id": "8f8e797f-4cdf-40a7-b924-2093a3818486",
   "metadata": {
    "tags": []
   },
   "outputs": [
    {
     "data": {
      "text/markdown": [
       "# Dijkstra Algorithm"
      ],
      "text/plain": [
       "<IPython.core.display.Markdown object>"
      ]
     },
     "metadata": {},
     "output_type": "display_data"
    },
    {
     "data": {
      "text/markdown": [
       "Upload your Graph:"
      ],
      "text/plain": [
       "<IPython.core.display.Markdown object>"
      ]
     },
     "metadata": {},
     "output_type": "display_data"
    },
    {
     "data": {
      "application/vnd.jupyter.widget-view+json": {
       "model_id": "d3af9f386cc545c39b4f84734d8fcdc8",
       "version_major": 2,
       "version_minor": 0
      },
      "text/plain": [
       "FileUpload(value={}, accept='.txt', description='Upload')"
      ]
     },
     "metadata": {},
     "output_type": "display_data"
    },
    {
     "data": {
      "application/vnd.jupyter.widget-view+json": {
       "model_id": "5de8ef53dc4540099b99ad9622de7be1",
       "version_major": 2,
       "version_minor": 0
      },
      "text/plain": [
       "Output()"
      ]
     },
     "metadata": {},
     "output_type": "display_data"
    },
    {
     "data": {
      "application/vnd.jupyter.widget-view+json": {
       "model_id": "9d640a586fd84c44bde5fd9e98e5aa27",
       "version_major": 2,
       "version_minor": 0
      },
      "text/plain": [
       "Output()"
      ]
     },
     "metadata": {},
     "output_type": "display_data"
    }
   ],
   "source": [
    "#Create Widgets on start\n",
    "display_input = widgets.Output()\n",
    "display_dijkstra = widgets.Output()\n",
    "uploader = widgets.FileUpload(accept='.txt', multiple=False )\n",
    "\n",
    "#create empty Graph\n",
    "G = nx.Graph()\n",
    "\n",
    "#Displayed Widgets\n",
    "display(Markdown('# Dijkstra Algorithm')) \n",
    "display(Markdown('Upload your Graph:')) \n",
    "display(uploader)\n",
    "display(display_input)\n",
    "display(display_dijkstra)\n",
    "\n",
    "#when Graph uploaded, use Prim Algorithm and Display result\n",
    "uploader.observe(functools.partial(display_uploaded_graph, \n",
    "                                   Graph=G, \n",
    "                                   display_input=display_input, \n",
    "                                   display_dijkstra=display_dijkstra), \n",
    "                 names = 'value')\n",
    "\n"
   ]
  },
  {
   "cell_type": "code",
   "execution_count": 6,
   "id": "9752d5af-6186-4e90-a988-9710b2c77e02",
   "metadata": {
    "tags": []
   },
   "outputs": [
    {
     "data": {
      "text/markdown": [
       "### Legend"
      ],
      "text/plain": [
       "<IPython.core.display.Markdown object>"
      ]
     },
     "metadata": {},
     "output_type": "display_data"
    },
    {
     "name": "stdout",
     "output_type": "stream",
     "text": [
      "Each label is assigned to a node.\n",
      "\n"
     ]
    },
    {
     "data": {
      "text/markdown": [
       "#### label on start node"
      ],
      "text/plain": [
       "<IPython.core.display.Markdown object>"
      ]
     },
     "metadata": {},
     "output_type": "display_data"
    },
    {
     "data": {
      "image/png": "[encoded data removed]",
      "text/plain": [
       "<Figure size 60x60 with 1 Axes>"
      ]
     },
     "metadata": {
      "needs_background": "light"
     },
     "output_type": "display_data"
    },
    {
     "data": {
      "text/markdown": [
       "#### label on all other nodes"
      ],
      "text/plain": [
       "<IPython.core.display.Markdown object>"
      ]
     },
     "metadata": {},
     "output_type": "display_data"
    },
    {
     "name": "stdout",
     "output_type": "stream",
     "text": [
      "distance = minimum distance,which was found till now\n",
      "predecessor_node = node, which arc creates the path with the smallest current distance to the label-node\n"
     ]
    },
    {
     "data": {
      "image/png": "[encoded data removed]",
      "text/plain": [
       "<Figure size 300x60 with 1 Axes>"
      ]
     },
     "metadata": {
      "needs_background": "light"
     },
     "output_type": "display_data"
    },
    {
     "data": {
      "text/markdown": [
       "#### temporary label"
      ],
      "text/plain": [
       "<IPython.core.display.Markdown object>"
      ]
     },
     "metadata": {},
     "output_type": "display_data"
    },
    {
     "data": {
      "image/png": "[encoded data removed]",
      "text/plain": [
       "<Figure size 60x60 with 1 Axes>"
      ]
     },
     "metadata": {
      "needs_background": "light"
     },
     "output_type": "display_data"
    },
    {
     "data": {
      "text/markdown": [
       "#### new temorary label"
      ],
      "text/plain": [
       "<IPython.core.display.Markdown object>"
      ]
     },
     "metadata": {},
     "output_type": "display_data"
    },
    {
     "data": {
      "image/png": "[encoded data removed]",
      "text/plain": [
       "<Figure size 60x60 with 1 Axes>"
      ]
     },
     "metadata": {
      "needs_background": "light"
     },
     "output_type": "display_data"
    },
    {
     "data": {
      "text/markdown": [
       "#### permanent Label"
      ],
      "text/plain": [
       "<IPython.core.display.Markdown object>"
      ]
     },
     "metadata": {},
     "output_type": "display_data"
    },
    {
     "data": {
      "image/png": "[encoded data removed]",
      "text/plain": [
       "<Figure size 60x60 with 1 Axes>"
      ]
     },
     "metadata": {
      "needs_background": "light"
     },
     "output_type": "display_data"
    },
    {
     "data": {
      "text/markdown": [
       "#### new permanent label"
      ],
      "text/plain": [
       "<IPython.core.display.Markdown object>"
      ]
     },
     "metadata": {},
     "output_type": "display_data"
    },
    {
     "data": {
      "image/png": "[encoded data removed]",
      "text/plain": [
       "<Figure size 60x60 with 1 Axes>"
      ]
     },
     "metadata": {
      "needs_background": "light"
     },
     "output_type": "display_data"
    }
   ],
   "source": [
    "display(Markdown('### Legend'))\n",
    "print('Each label is assigned to a node.')\n",
    "print()\n",
    "\n",
    "\n",
    "# label on start node\n",
    "fig = plt.gcf()\n",
    "fig.set_size_inches(1, 1)\n",
    "plt.text(0.5, 0.5, 0, fontsize=20, horizontalalignment='center', color='black', \n",
    "                     bbox=dict(facecolor='white', edgecolor='white'))\n",
    "plt.tight_layout()\n",
    "plt.axis('off')\n",
    "display(Markdown('#### label on start node'))\n",
    "plt.show()\n",
    "\n",
    "\n",
    "#label on all other nodes\n",
    "fig = plt.gcf()\n",
    "fig.set_size_inches(5, 1)\n",
    "plt.text(0.5, 0.5, 'distance(predecessor_node)', fontsize=20, horizontalalignment='center', color='black', \n",
    "                     bbox=dict(facecolor='white', edgecolor='white'))\n",
    "plt.tight_layout()\n",
    "plt.axis('off')\n",
    "display(Markdown('#### label on all other nodes'))\n",
    "print('distance = minimum distance,which was found till now')\n",
    "print('predecessor_node = node, which arc creates the path with the smallest current distance to the label-node')\n",
    "plt.show()\n",
    "\n",
    "\n",
    "#temporary label\n",
    "fig = plt.gcf()\n",
    "fig.set_size_inches(1, 1)\n",
    "plt.text(0.5, 0.5, 'Label', fontsize=20, horizontalalignment='center', color='black', \n",
    "                     bbox=dict(facecolor='white', edgecolor='white'))\n",
    "plt.tight_layout()\n",
    "plt.axis('off')\n",
    "display(Markdown('#### temporary label'))\n",
    "plt.show()\n",
    "\n",
    "\n",
    "#permanent label\n",
    "fig = plt.gcf()\n",
    "fig.set_size_inches(1, 1)\n",
    "plt.text(0.5, 0.5, 'Label', fontsize=20, horizontalalignment='center', color='orange', \n",
    "                     bbox=dict(facecolor='white', edgecolor='white'))\n",
    "plt.tight_layout()\n",
    "plt.axis('off')\n",
    "display(Markdown('#### new temorary label'))\n",
    "plt.show()\n",
    "\n",
    "\n",
    "#permanent label\n",
    "fig = plt.gcf()\n",
    "fig.set_size_inches(1, 1)\n",
    "plt.text(0.5, 0.5, 'Label', fontsize=20, horizontalalignment='center', color='black', \n",
    "                     bbox=dict(facecolor='white', edgecolor='black'))\n",
    "plt.tight_layout()\n",
    "plt.axis('off')\n",
    "display(Markdown('#### permanent Label'))\n",
    "plt.show()\n",
    "\n",
    "\n",
    "#new permanent label\n",
    "fig = plt.gcf()\n",
    "fig.set_size_inches(1, 1)\n",
    "plt.text(0.5, 0.5, 'Label', fontsize=20, horizontalalignment='center', color='black', \n",
    "                     bbox=dict(facecolor='white', edgecolor='orange'))\n",
    "plt.tight_layout()\n",
    "plt.axis('off')\n",
    "display(Markdown('#### new permanent label'))\n",
    "plt.show()\n"
   ]
  }
 ],
 "metadata": {
  "kernelspec": {
   "display_name": "Python 3 (ipykernel)",
   "language": "python",
   "name": "python3"
  },
  "language_info": {
   "codemirror_mode": {
    "name": "ipython",
    "version": 3
   },
   "file_extension": ".py",
   "mimetype": "text/x-python",
   "name": "python",
   "nbconvert_exporter": "python",
   "pygments_lexer": "ipython3",
   "version": "3.9.6"
  }
 },
 "nbformat": 4,
 "nbformat_minor": 5
}
