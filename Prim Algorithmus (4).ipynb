{
 "cells": [
  {
   "cell_type": "code",
   "execution_count": 1,
   "id": "a794ad1a-8dd1-4db4-a715-0979d7509c0d",
   "metadata": {
    "tags": []
   },
   "outputs": [],
   "source": [
    "import networkx as nx\n",
    "import matplotlib.pyplot as plt\n",
    "import pandas as pd\n",
    "from IPython.display import display, Markdown\n",
    "import ipywidgets as widgets\n",
    "import functools\n",
    "from prim_algorithm import prim_algorithm"
   ]
  },
  {
   "cell_type": "code",
   "execution_count": 2,
   "id": "c31b6e02-d845-4e96-84d1-9f3807ffce2f",
   "metadata": {
    "tags": []
   },
   "outputs": [],
   "source": [
    "#config\n",
    "color_standard = 'black'\n",
    "color_new = 'gold'\n",
    "color_old = 'blue'\n",
    "\n",
    "font_size_node = 30\n",
    "font_size_weight = 25\n",
    "width_edge_not_visited = 5\n",
    "width_edge_visited = 10\n",
    "\n",
    "#Setting for visited nodes\n",
    "visited = {\n",
    "    'node_size': 3000,\n",
    "    'node_color': 'cornflowerblue',\n",
    "    'edgecolors': color_old,\n",
    "    'linewidths': 5,\n",
    "    }    \n",
    "#Setting for last added node\n",
    "last_visited = {\n",
    "    'node_size': 3000,\n",
    "    'node_color': 'white',\n",
    "    'edgecolors': color_new,\n",
    "    'linewidths': 5,\n",
    "    }\n",
    "#Setting for not visited nodes\n",
    "not_visited = {\n",
    "    'node_size': 3000,\n",
    "    'node_color': 'white',\n",
    "    'edgecolors': color_standard,\n",
    "    'linewidths': 5,\n",
    "    }\n",
    "\n",
    "#adjust Setting\n",
    "plt.rcParams['figure.figsize']=12,8\n",
    "plt.rcParams['figure.dpi'] = 60"
   ]
  },
  {
   "cell_type": "code",
   "execution_count": 3,
   "id": "1f748d64-5a27-4ae0-99b1-dad28bdac24f",
   "metadata": {
    "tags": []
   },
   "outputs": [],
   "source": [
    "# observe/on_click Functions\n",
    "def create_graph(change, Graph, display_plot, display_prim):\n",
    "    # clear old inputs\n",
    "    display_plot.clear_output()\n",
    "    Graph.clear()\n",
    "\n",
    "    # read and execute uploaded txt-file, get variables \n",
    "    uploaded_edges, pos, start_node = read_uploaded_variables(change)\n",
    "    Graph.add_weighted_edges_from(uploaded_edges)\n",
    "\n",
    "    # definiton slider\n",
    "    temp_value = start_node + 1 if start_node != Graph.number_of_nodes else start_node - 1\n",
    "    start_node_slider = widgets.IntSlider(value=temp_value, min=1, max=Graph.number_of_nodes(),\n",
    "                                          description='Startnode:', continuous_update=False)\n",
    "\n",
    "    # draw Graph on Plot\n",
    "    labels = nx.get_edge_attributes(Graph, 'weight')\n",
    "    nx.draw_networkx(Graph, pos, **not_visited, font_size=font_size_node, width=width_edge_not_visited)\n",
    "    nx.draw_networkx_edge_labels(Graph, pos, edge_labels=labels, font_size=font_size_weight, rotate=False)\n",
    "\n",
    "    # Display Plot and slider for start_node\n",
    "    plt.axis('off')\n",
    "    with display_plot:\n",
    "        display(Markdown('## Original Network'))\n",
    "        plt.show()\n",
    "        display(start_node_slider)\n",
    "\n",
    "    # on change of start_node, display the result of the prim_algoriithm step by step\n",
    "    start_node_slider.observe( functools.partial(output_prim, Graph=Graph, display_prim=display_prim, \n",
    "                                                 pos=pos, labels=labels), names='value')\n",
    "    start_node_slider.value = start_node\n",
    "\n",
    "\n",
    "def output_prim(change, Graph, display_prim, pos, labels):\n",
    "    # clear old output\n",
    "    display_prim.clear_output()\n",
    "\n",
    "    # variables\n",
    "    start_node = change['new']\n",
    "    used_edges = []  # edges of path that are colored\n",
    "\n",
    "    # Prim algorithm\n",
    "    path_edges, path_nodes, dfs_open_edges = prim_algorithm(Graph, start_node)\n",
    "\n",
    "    # display every plot (+2 first and last Plot don´t have a df)\n",
    "    for plot_nr in range(0, len(dfs_open_edges) + 2):\n",
    "        display_text_and_df(display_prim, dfs_open_edges, plot_nr)\n",
    "        draw_graph_on_plot(Graph, labels, path_nodes, plot_nr, pos, used_edges)\n",
    "\n",
    "        plt.axis('off')\n",
    "        with display_prim:\n",
    "            plt.show()\n",
    "\n",
    "        # update variable used_edges\n",
    "        update_used_edges(dfs_open_edges, path_edges, plot_nr, used_edges)\n",
    "\n",
    "    # output path length\n",
    "    path_length = get_path_length(path_edges)\n",
    "    with display_prim:\n",
    "        display(Markdown('#### Length minimum spanning tree: ' + str(path_length) + ' Units'))"
   ]
  },
  {
   "cell_type": "code",
   "execution_count": 4,
   "id": "0e0ce871-dcc1-4925-a31a-09c00fe9a4ff",
   "metadata": {
    "tags": []
   },
   "outputs": [],
   "source": [
    "# line reducing functions \n",
    "def read_uploaded_variables(change):\n",
    "    # read txt-Data and execute as code, get the some values\n",
    "    for key in change['new']:\n",
    "        string = change['new'][key]['content'].decode('utf-8')\n",
    "        var_to_value = {}\n",
    "        exec(string, var_to_value)\n",
    "\n",
    "        # get variables\n",
    "        start_node = var_to_value['start_node']\n",
    "        uploaded_edges = var_to_value['edges']\n",
    "        pos = var_to_value['pos']\n",
    "\n",
    "    return uploaded_edges, pos, start_node\n",
    "\n",
    "\n",
    "def display_text_and_df(display_prim, dfs_open_edges, plot_nr):\n",
    "    # display text to plot\n",
    "    if plot_nr == 0:\n",
    "        with display_prim:\n",
    "            display(Markdown('## Start Graph'))\n",
    "    elif plot_nr == len(dfs_open_edges) + 1:\n",
    "        with display_prim:\n",
    "            display(Markdown('## Final Graph'))\n",
    "    elif plot_nr != 0 and plot_nr != len(dfs_open_edges) + 1:\n",
    "        with display_prim:\n",
    "            display(Markdown('## ' + str(plot_nr) + '. Edge'))\n",
    "    # display the possible edges as df except Startgraph, finished_Graph   \n",
    "    if plot_nr != 0 and plot_nr != len(dfs_open_edges) + 1:\n",
    "        with display_prim:\n",
    "            display(dfs_open_edges[plot_nr - 1].style.hide_index())\n",
    "\n",
    "\n",
    "def draw_graph_on_plot(Graph, labels, path_nodes, plot_nr, pos, used_edges):\n",
    "    # Draw network components in Plot\n",
    "    nx.draw_networkx_nodes(Graph, pos, nodelist=path_nodes[0:plot_nr], **visited)\n",
    "    nx.draw_networkx_nodes(Graph, pos, nodelist=path_nodes[plot_nr:plot_nr + 1], **last_visited)\n",
    "    nodelist_not_visited = list(set(list(Graph.nodes())) - set(path_nodes[:(plot_nr + 1)]))\n",
    "    nx.draw_networkx_nodes(Graph, pos, nodelist=nodelist_not_visited, **not_visited)\n",
    "    nx.draw_networkx_labels(Graph, pos, font_size=font_size_node)\n",
    "\n",
    "    nx.draw_networkx_edges(Graph, pos, edgelist=(list(set(list(Graph.edges())) - set(used_edges))),\n",
    "                           edge_color=color_standard, width=width_edge_not_visited)\n",
    "    nx.draw_networkx_edges(Graph, pos, edgelist=used_edges[0:plot_nr], edge_color=color_old, width=width_edge_visited)\n",
    "    nx.draw_networkx_edges(Graph, pos, edgelist=used_edges[plot_nr - 1:plot_nr], \n",
    "                           edge_color=color_new, width=width_edge_visited)\n",
    "    nx.draw_networkx_edge_labels(Graph, pos, edge_labels=labels, font_size=font_size_weight, rotate=False)\n",
    "\n",
    "\n",
    "def update_used_edges(dfs_open_edges, path, plot_nr, used_edges):\n",
    "    # list ids\n",
    "    start_edge_id = 0;\n",
    "    end_edge_id = 1\n",
    "\n",
    "    # update list for drawing used_edges in different colors\n",
    "    if plot_nr != len(dfs_open_edges) and plot_nr != len(dfs_open_edges) + 1:\n",
    "        # smaller number must be first when difference to Graph.edges() is needed (look draw_graph_on_plot)\n",
    "        if path[plot_nr][start_edge_id] < path[plot_nr][end_edge_id]:\n",
    "            used_edges.append(tuple((path[plot_nr][start_edge_id], path[plot_nr][end_edge_id])))\n",
    "        elif path[plot_nr][end_edge_id] < path[plot_nr][start_edge_id]:\n",
    "            used_edges.append(tuple((path[plot_nr][end_edge_id], path[plot_nr][start_edge_id])))\n",
    "\n",
    "\n",
    "def get_path_length(path_edges):\n",
    "    path_length = 0\n",
    "    weight_id = 2\n",
    "    # calculate path length\n",
    "    for edge in path_edges:\n",
    "        path_length = path_length + edge[weight_id]\n",
    "    return path_length"
   ]
  },
  {
   "cell_type": "code",
   "execution_count": 5,
   "id": "122ae7d1",
   "metadata": {
    "tags": []
   },
   "outputs": [
    {
     "data": {
      "text/markdown": [
       "# Prim Algorithm"
      ],
      "text/plain": [
       "<IPython.core.display.Markdown object>"
      ]
     },
     "metadata": {},
     "output_type": "display_data"
    },
    {
     "data": {
      "text/markdown": [
       "Upload your Graph:"
      ],
      "text/plain": [
       "<IPython.core.display.Markdown object>"
      ]
     },
     "metadata": {},
     "output_type": "display_data"
    },
    {
     "data": {
      "application/vnd.jupyter.widget-view+json": {
       "model_id": "a211cd6e915f4e3cb398b613f6664fc1",
       "version_major": 2,
       "version_minor": 0
      },
      "text/plain": [
       "FileUpload(value={}, accept='.txt', description='Upload')"
      ]
     },
     "metadata": {},
     "output_type": "display_data"
    },
    {
     "data": {
      "application/vnd.jupyter.widget-view+json": {
       "model_id": "9a56d35368c54e4bb16b52d2e34cdab4",
       "version_major": 2,
       "version_minor": 0
      },
      "text/plain": [
       "Output()"
      ]
     },
     "metadata": {},
     "output_type": "display_data"
    },
    {
     "data": {
      "application/vnd.jupyter.widget-view+json": {
       "model_id": "9f569a12a6864cdca420d661148fee72",
       "version_major": 2,
       "version_minor": 0
      },
      "text/plain": [
       "Output()"
      ]
     },
     "metadata": {},
     "output_type": "display_data"
    }
   ],
   "source": [
    "#Create Widgets on start\n",
    "display_plot = widgets.Output()\n",
    "display_prim = widgets.Output()\n",
    "uploader = widgets.FileUpload(accept='.txt', multiple=False)\n",
    "\n",
    "#create empty Graph\n",
    "G = nx.Graph()\n",
    "\n",
    "#Displayed Widgets\n",
    "display(Markdown('# Prim Algorithm')) \n",
    "display(Markdown('Upload your Graph:')) \n",
    "display(uploader)\n",
    "display(display_plot)\n",
    "display(display_prim)\n",
    "\n",
    "#when Graph uploaded, use Prim Algorithm and Display result\n",
    "uploader.observe(functools.partial(create_graph, Graph = G, display_plot = display_plot, \n",
    "                                   display_prim = display_prim), names = 'value')"
   ]
  },
  {
   "cell_type": "code",
   "execution_count": null,
   "id": "b18a7449-ffc5-4098-9b5b-a76508845c15",
   "metadata": {},
   "outputs": [],
   "source": []
  }
 ],
 "metadata": {
  "kernelspec": {
   "display_name": "Python 3 (ipykernel)",
   "language": "python",
   "name": "python3"
  },
  "language_info": {
   "codemirror_mode": {
    "name": "ipython",
    "version": 3
   },
   "file_extension": ".py",
   "mimetype": "text/x-python",
   "name": "python",
   "nbconvert_exporter": "python",
   "pygments_lexer": "ipython3",
   "version": "3.9.6"
  }
 },
 "nbformat": 4,
 "nbformat_minor": 5
}
