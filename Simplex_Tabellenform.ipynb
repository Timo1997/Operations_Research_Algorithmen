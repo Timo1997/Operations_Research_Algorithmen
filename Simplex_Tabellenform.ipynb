{
 "cells": [
  {
   "cell_type": "code",
   "execution_count": 1,
   "id": "f8afc47d-3977-4b76-96a5-d0937838203d",
   "metadata": {
    "tags": []
   },
   "outputs": [],
   "source": [
    "import ipywidgets as widgets\n",
    "import pandas as pd\n",
    "import numpy as np\n",
    "import copy\n",
    "import sympy as sp\n",
    "import ipysheet\n",
    "import simplex_algorithm  as sa\n",
    "import functools\n",
    "import tableau_input2 as tableau_input\n",
    "\n",
    "from ipysheet import sheet, cell, column, row, sheet, cell_range\n",
    "from IPython.display import clear_output, display, Markdown "
   ]
  },
  {
   "cell_type": "code",
   "execution_count": 2,
   "id": "a48a19d3-4f68-4001-83c3-5f85d8ac73c0",
   "metadata": {},
   "outputs": [],
   "source": [
    "#config\n",
    "M = sp.symbols('M') #mathematical symbol (placeholder for infinite)\n",
    "max_iterations = 10  # number of iterations before simplex stops\n",
    "max_real_vars = 10 #max number of real variables\n",
    "decimal_digits = 2 #number of decimal digits"
   ]
  },
  {
   "cell_type": "code",
   "execution_count": 3,
   "id": "6b336bd5-529a-44fc-8ef4-715286ec2163",
   "metadata": {
    "tags": []
   },
   "outputs": [],
   "source": [
    "# observe and on click functions\n",
    "def create_input_table_with_file(change, display_table_input, display_output, M):\n",
    "    # clear old output\n",
    "    display_output.clear_output()\n",
    "    display_table_input.clear_output()\n",
    "\n",
    "    # define buttons\n",
    "    button_simplex_start = widgets.Button(description='Starte Simplex', disabled=True)\n",
    "    button_check_input = widgets.Button(description='Überprüfe Eingabe')\n",
    "\n",
    "    # read and execute file to get variable\n",
    "    uploaded_tableau = read_upload_variables(change)\n",
    "\n",
    "    # create input table with variable from file\n",
    "    input_table = sheet(rows=len(uploaded_tableau), columns=len(uploaded_tableau[0]),\n",
    "                        row_headers=False, column_headers=False)\n",
    "    cell_table = fill_and_observe_cells(button_simplex_start, input_table, uploaded_tableau)\n",
    "\n",
    "    #display\n",
    "    with display_table_input:\n",
    "        display(Markdown('## Laden des Standardtableaus'))\n",
    "        display(input_table)\n",
    "        display(button_check_input)\n",
    "        display(button_simplex_start)\n",
    "    \n",
    "    #obeserve buttons\n",
    "    button_simplex_start.on_click(functools.partial(start_simplex, input_table=input_table, \n",
    "                                                    sum_var= input_table.columns - 3, \n",
    "                                                    display_output=display_output, M=M))\n",
    "\n",
    "    button_check_input.on_click(functools.partial(tableau_input.check_correct_input,\n",
    "                                                  button_start_algorithm=button_simplex_start,\n",
    "                                                  cell_table=cell_table,\n",
    "                                                  input_table=input_table\n",
    "                                                  )\n",
    "                                )\n",
    "\n",
    "\n",
    "\n",
    "def create_input_table_manually(button_create_input_table, dd_count_restr, dd_count_x_vars ,dd_count_s_vars, \n",
    "                                dd_count_a_vars ,display_table_input, display_output,M): \n",
    "    \n",
    "    display_table_input.clear_output()\n",
    "    display_output.clear_output()\n",
    "    \n",
    "    button_simplex_start = widgets.Button(description='Starte Simplex', disabled=True)\n",
    "    button_check_input = widgets.Button(description='Überprüfe Eingabe')\n",
    "     \n",
    "    #create input table\n",
    "    sum_var=int(dd_count_x_vars.value) + int(dd_count_s_vars.value) + int(dd_count_a_vars.value)\n",
    "    input_table = ipysheet.sheet(rows=2+float(dd_count_restr.value), columns=sum_var+3,  \n",
    "                                 row_headers=False, column_headers=False)\n",
    "    input_table, cell_table = tableau_input.prefill_tableau_text_and_colour(input_table = input_table,\n",
    "                                                                            dd_count_restr = dd_count_restr, \n",
    "                                                                            dd_count_x_vars = dd_count_x_vars ,\n",
    "                                                                            dd_count_s_vars=dd_count_s_vars, \n",
    "                                                                            dd_count_a_vars=dd_count_a_vars,\n",
    "                                                                            button_start_algorithm = button_simplex_start, \n",
    "                                                                            M = M, )\n",
    "\n",
    "    with display_table_input:\n",
    "        display(Markdown('## Erzeuge das Standardtableau'))\n",
    "        display(input_table)\n",
    "        display(button_check_input)\n",
    "        display(button_simplex_start)\n",
    "    \n",
    "    button_check_input.on_click(functools.partial(tableau_input.check_correct_input, \n",
    "                                           button_start_algorithm = button_simplex_start, \n",
    "                                           cell_table = cell_table,\n",
    "                                           input_table = input_table\n",
    "                                          )\n",
    "                                )\n",
    "    \n",
    "    button_simplex_start.on_click(functools.partial(start_simplex, input_table = input_table, \n",
    "                                                    sum_var = sum_var, display_output = display_output, M=M))      \n",
    "                    \n",
    "        \n",
    "def start_simplex(button_simplex_start, input_table, sum_var, display_output, M):\n",
    "    display_output.clear_output()\n",
    "    pd.set_option('precision', decimal_digits)\n",
    "    \n",
    "    #create df of sheet for calculations\n",
    "    tableau = ipysheet.to_dataframe(input_table)\n",
    "    tableau = tableau.apply(pd.to_numeric, errors='ignore', downcast='float')\n",
    "    tableau.columns = range(0, sum_var+3)\n",
    "    \n",
    "    #add the rows cj and cj_zj and calculate values\n",
    "    tableau = tableau_input.add_missing_cj_and_cj_zj_rows(tableau, M)\n",
    "    sa.calculate_cj_and_cj_zj(tableau)\n",
    "\n",
    "    #execute simplex algorithm\n",
    "    tableaus, messages, pivot_elements = sa.simplex_algorithm(tableau, max_iterations, M)\n",
    "    output_simplex(tableaus, pivot_elements, messages, display_output)"
   ]
  },
  {
   "cell_type": "code",
   "execution_count": 4,
   "id": "b2868f1a-8c95-482f-8287-36829b2cdeaf",
   "metadata": {
    "tags": []
   },
   "outputs": [],
   "source": [
    "#functions to shorten lines\n",
    "def create_dropdowns():\n",
    "    # quantity of restrictions\n",
    "    dd_count_restr = widgets.Dropdown(\n",
    "        options=list(map(str, range(0, 6))),\n",
    "        value='0',\n",
    "        description='Restriktionen:',\n",
    "        disabled=False,\n",
    "    )\n",
    "\n",
    "    # quantity of real variables\n",
    "    dd_count_x_vars = widgets.Dropdown(\n",
    "        options=list(map(str, range(1, max_real_vars))),\n",
    "        value='1',\n",
    "        description='echte Variablen:',\n",
    "        disabled=False,\n",
    "    )\n",
    "\n",
    "    # quantity of slack variables\n",
    "    dd_count_s_vars = widgets.Dropdown(\n",
    "        options=list(map(str, range(0, 6))),\n",
    "        value='0',\n",
    "        description='Schlupfvariablen:',\n",
    "        disabled=False,\n",
    "    )\n",
    "\n",
    "    # quantity of artificial variables\n",
    "    dd_count_a_vars = widgets.Dropdown(\n",
    "        options=list(map(str, range(0, 6))),\n",
    "        value='0',\n",
    "        description='künstliche Variablen:',\n",
    "        disabled=False,\n",
    "    )\n",
    "    return dd_count_restr, dd_count_x_vars, dd_count_s_vars, dd_count_a_vars\n",
    "\n",
    "def fill_and_observe_cells(button_simplex_start, input_table, uploaded_tableau):\n",
    "    #look at every value of the uploaded tableau\n",
    "    cell_table = [[''] * input_table.columns for i in range(input_table.rows)]\n",
    "    for row_id in range(input_table.rows):\n",
    "        for column_id in range(input_table.columns):\n",
    "            value = uploaded_tableau[row_id][column_id]\n",
    "            \n",
    "            #define cell font_weight\n",
    "            if row_id == 1 or column_id == 1:\n",
    "                font_weight = 'bold'\n",
    "            else:\n",
    "                font_weight = None\n",
    "            \n",
    "            #define cell color\n",
    "            if row_id == 0 and (column_id == 0 or column_id == 1 or column_id == 2) and value != '0':\n",
    "                cell_color = 'grey'\n",
    "            elif (row_id == 0 or column_id == 0) and (value == '-M' or value == 0):\n",
    "                cell_color = 'white'\n",
    "            elif row_id == 1 or column_id == 1:\n",
    "                cell_color = 'white'\n",
    "            else:\n",
    "                cell_color = 'yellow'\n",
    "            \n",
    "            #give value to cell with defined attributes\n",
    "            cell_table[row_id][column_id] = cell(row_id, column_id, value, background_color=cell_color,\n",
    "                                                 numeric_format='0.', font_weight=font_weight)\n",
    "            #observe every cell for changes\n",
    "            cell_table[row_id][column_id].observe(functools.partial(tableau_input.update_table,\n",
    "                                                                    input_table=input_table,\n",
    "                                                                    button_start_algorithm=button_simplex_start))\n",
    "    return cell_table\n",
    "\n",
    "\n",
    "def read_upload_variables(change):\n",
    "    for key in change['new']:\n",
    "        string = change['new'][key]['content'].decode('utf-8')\n",
    "        var_to_value = {}\n",
    "        exec(string, var_to_value)\n",
    "        uploaded_tableau = var_to_value['tableau']\n",
    "    return uploaded_tableau\n",
    "\n",
    "\n",
    "def output_simplex(tableaus, pivot_elements, messages, display_output):\n",
    "    #display tableaus and the messages to the tableau\n",
    "    pivot_row_id = 0\n",
    "    pivot_column_id = 1\n",
    "\n",
    "    with display_output:\n",
    "        display(Markdown('## Ergebnis'))\n",
    "\n",
    "    for tableau_id in range(0, len(tableaus)):\n",
    "        with display_output:\n",
    "            display(Markdown('### ' + str(tableau_id) + '.Tableau'))\n",
    "            display(tableaus[tableau_id].style \\\n",
    "                    .apply(lambda x: ['background: lightblue' if x.name == pivot_elements[tableau_id][pivot_column_id]\n",
    "                           else '' for i in x]) \\\n",
    "                    .apply(lambda x: ['background: lightblue' if x.name == pivot_elements[tableau_id][pivot_row_id]\n",
    "                           else '' for i in x], axis=1) \\\n",
    "                    .hide_index() \\\n",
    "                    .hide_columns())   \n",
    "\n",
    "        for message_id in range(len(messages[tableau_id])):\n",
    "            with display_output:\n",
    "                display(widgets.Label(value=messages[tableau_id][message_id]))"
   ]
  },
  {
   "cell_type": "code",
   "execution_count": 5,
   "id": "f8afa6cc-469b-4bdf-a88a-e353593c9fde",
   "metadata": {
    "tags": []
   },
   "outputs": [
    {
     "data": {
      "text/markdown": [
       "# Simplex Tableau"
      ],
      "text/plain": [
       "<IPython.core.display.Markdown object>"
      ]
     },
     "metadata": {},
     "output_type": "display_data"
    },
    {
     "data": {
      "text/markdown": [
       "## Definiere Art/Anzahl der Variablen"
      ],
      "text/plain": [
       "<IPython.core.display.Markdown object>"
      ]
     },
     "metadata": {},
     "output_type": "display_data"
    },
    {
     "data": {
      "application/vnd.jupyter.widget-view+json": {
       "model_id": "23974278f2e3408a878ca0a600708bbc",
       "version_major": 2,
       "version_minor": 0
      },
      "text/plain": [
       "Output()"
      ]
     },
     "metadata": {},
     "output_type": "display_data"
    },
    {
     "data": {
      "application/vnd.jupyter.widget-view+json": {
       "model_id": "920365f362c9462c9788c427718f7e76",
       "version_major": 2,
       "version_minor": 0
      },
      "text/plain": [
       "Output()"
      ]
     },
     "metadata": {},
     "output_type": "display_data"
    },
    {
     "data": {
      "application/vnd.jupyter.widget-view+json": {
       "model_id": "7d3e9abbd99c4c2aa08a1e8bce3a55b3",
       "version_major": 2,
       "version_minor": 0
      },
      "text/plain": [
       "Output()"
      ]
     },
     "metadata": {},
     "output_type": "display_data"
    }
   ],
   "source": [
    "# create widgets\n",
    "display_variable_input = widgets.Output()\n",
    "display_table_input = widgets.Output()\n",
    "display_output = widgets.Output()\n",
    "uploader = widgets.FileUpload(accept='.txt', multiple=False)\n",
    "\n",
    "\n",
    "dd_count_restr, dd_count_x_vars, dd_count_s_vars, dd_count_a_vars = create_dropdowns()\n",
    "\n",
    "button_create_input_table = widgets.Button(description='Erzeuge Eingabetableau!')\n",
    "\n",
    "# manage widget visibility\n",
    "dd_count_s_vars.layout.visibility = 'hidden'\n",
    "dd_count_a_vars.layout.visibility = 'hidden'\n",
    "button_create_input_table.layout.visibility = 'hidden'\n",
    "\n",
    "# display\n",
    "display(Markdown('# Simplex Tableau'))\n",
    "display(Markdown('## Definiere Art/Anzahl der Variablen'))\n",
    "display(display_variable_input)\n",
    "display(display_table_input)\n",
    "display(display_output)\n",
    "\n",
    "with display_variable_input:\n",
    "    display(uploader)\n",
    "    display(Markdown('#### oder'))\n",
    "    display(dd_count_restr)\n",
    "    display(dd_count_x_vars)\n",
    "    display(dd_count_s_vars)\n",
    "    display(dd_count_a_vars)\n",
    "    display(button_create_input_table)\n",
    "\n",
    "# adjust dropdown values by count restriction change\n",
    "dd_count_restr.observe(functools.partial(tableau_input.on_restr_change,\n",
    "                                         dd_count_x_vars=dd_count_x_vars,\n",
    "                                         dd_count_s_vars=dd_count_s_vars,\n",
    "                                         dd_count_a_vars=dd_count_a_vars,\n",
    "                                         button_create_input_table=button_create_input_table,\n",
    "                                         display_variable_input=display_variable_input),\n",
    "                       names='value'\n",
    "                       )\n",
    "\n",
    "# create a table with the values of the dropdowns \n",
    "button_create_input_table.on_click(functools.partial(create_input_table_manually,\n",
    "                                                     dd_count_restr=dd_count_restr,\n",
    "                                                     dd_count_x_vars=dd_count_x_vars,\n",
    "                                                     dd_count_s_vars=dd_count_s_vars,\n",
    "                                                     dd_count_a_vars=dd_count_a_vars,\n",
    "                                                     display_table_input=display_table_input,\n",
    "                                                     display_output=display_output,\n",
    "                                                     M=M\n",
    "                                                     )\n",
    "                                   )\n",
    "\n",
    "# observe Upload-Button for Upload\n",
    "uploader.observe(functools.partial(create_input_table_with_file, display_table_input=display_table_input,\n",
    "                                   display_output=display_output, M=M), names='value') "
   ]
  }
 ],
 "metadata": {
  "kernelspec": {
   "display_name": "Python 3 (ipykernel)",
   "language": "python",
   "name": "python3"
  },
  "language_info": {
   "codemirror_mode": {
    "name": "ipython",
    "version": 3
   },
   "file_extension": ".py",
   "mimetype": "text/x-python",
   "name": "python",
   "nbconvert_exporter": "python",
   "pygments_lexer": "ipython3",
   "version": "3.9.6"
  }
 },
 "nbformat": 4,
 "nbformat_minor": 5
}
