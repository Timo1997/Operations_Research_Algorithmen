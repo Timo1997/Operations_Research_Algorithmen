{
 "cells": [
  {
   "cell_type": "code",
   "execution_count": 1,
   "id": "ee710579-9433-4b32-8328-f3fcdd2bb305",
   "metadata": {
    "tags": []
   },
   "outputs": [],
   "source": [
    "import matplotlib.pyplot as plt\n",
    "import ipywidgets as widgets\n",
    "import networkx as nx\n",
    "import pandas as pd\n",
    "import functools\n",
    "\n",
    "from IPython.display import display, Markdown\n",
    "from ford_fulkerson_algorithm import ford_fulkerson_algorithm"
   ]
  },
  {
   "cell_type": "code",
   "execution_count": 2,
   "id": "1f0f2a19-9530-4ecd-8fff-4a22da497f3d",
   "metadata": {
    "tags": []
   },
   "outputs": [],
   "source": [
    "#config\n",
    "\n",
    "#colors for iteration Graphs\n",
    "start_node_color = 'green'\n",
    "end_node_color = 'red' \n",
    "standard_node_color = 'white'\n",
    "\n",
    "options_residual = {\n",
    "    'font_size': 30,\n",
    "    'node_size': 3000,\n",
    "    'with_labels': True,\n",
    "    'edgecolors': 'black',\n",
    "    'linewidths': 5,\n",
    "    'width': 5,\n",
    "    'arrowstyle': ']-[',\n",
    "    'arrowsize': 3,\n",
    "    }\n",
    "\n",
    "#Output Definitions\n",
    "options_final = {\n",
    "    'font_size': 30,\n",
    "    'node_size': 3000,\n",
    "    'with_labels': True,\n",
    "    'edgecolors': 'black',\n",
    "    'linewidths': 5,\n",
    "    'width': 5,\n",
    "    'arrowstyle': '-|>',\n",
    "    'arrowsize': 40,\n",
    "    } \n",
    "\n",
    "#Output Definitions\n",
    "options_original = {\n",
    "    'font_size': 30,\n",
    "    'node_size': 3000,\n",
    "    'with_labels': True,\n",
    "    'node_color': 'white',\n",
    "    'edgecolors': 'black',\n",
    "    'linewidths': 5,\n",
    "    'width': 5,\n",
    "    'arrowstyle': '-|>',\n",
    "    'arrowsize': 40,\n",
    "    }\n",
    "\n",
    "edge_label_options_original = {\n",
    "    'font_size': 25,\n",
    "    'font_color': 'black',\n",
    "    'label_pos': 0.5,\n",
    "    'rotate': False,\n",
    "    }\n",
    "\n",
    "edge_label_options_residual = {\n",
    "    'font_size': 25,\n",
    "    'font_color': 'black',\n",
    "    'label_pos': 0.7,\n",
    "    'rotate': False,\n",
    "    }\n",
    "\n",
    "\n",
    "#adjust Setting for Plot\n",
    "plt.rcParams['figure.figsize']=12,8\n",
    "plt.rcParams['figure.dpi'] = 60"
   ]
  },
  {
   "cell_type": "code",
   "execution_count": 3,
   "id": "57fc14b4-beb2-4af7-8d5b-79d3fc0acfc7",
   "metadata": {
    "tags": []
   },
   "outputs": [],
   "source": [
    "#observe/on_click functions\n",
    "def display_uploaded_graph(change, Graph, display_input, display_ford_fulkerson):\n",
    "    #clear old inputs\n",
    "    display_input.clear_output()\n",
    "    display_ford_fulkerson.clear_output()\n",
    "    Graph.clear()\n",
    "    \n",
    "    #read txt-Data and execute as code, get the variables\n",
    "    start_node, end_node, uploaded_edges, pos = read_uploaded_variables(change)\n",
    "    \n",
    "    #add Edges to Graph\n",
    "    Graph.add_weighted_edges_from(uploaded_edges)\n",
    "    #get edge Labels to draw them on plot\n",
    "    edge_labels = nx.get_edge_attributes(Graph,'weight') \n",
    "    #draw Graph on plot\n",
    "    nx.draw(Graph, pos, ** options_original)\n",
    "    nx.draw_networkx_edge_labels(Graph, pos, edge_labels=edge_labels, **edge_label_options_original)\n",
    "    \n",
    "    end_node_slider, start_node_slider = create_start_end_node_sliders(Graph, start_node)\n",
    "    \n",
    "    with display_input:\n",
    "        display(Markdown('## Original Network'))\n",
    "        plt.show()\n",
    "        display(start_node_slider)\n",
    "        display(end_node_slider)\n",
    "\n",
    "    start_node_slider.observe(functools.partial(output_ford_fulkerson, Graph = Graph, start_node_slider = start_node_slider,  end_node_slider = end_node_slider, display_ford_fulkerson = display_ford_fulkerson, pos = pos, uploaded_edges = uploaded_edges), names = 'value')\n",
    "    end_node_slider.observe(functools.partial(output_ford_fulkerson, Graph = Graph, start_node_slider = start_node_slider,  end_node_slider = end_node_slider, display_ford_fulkerson = display_ford_fulkerson, pos = pos, uploaded_edges = uploaded_edges), names = 'value')\n",
    "    #change value to activate observe\n",
    "    end_node_slider.value = end_node\n",
    "    \n",
    "\n",
    "def output_ford_fulkerson(change, Graph, start_node_slider, end_node_slider, display_ford_fulkerson, pos, uploaded_edges):\n",
    "    display_ford_fulkerson.clear_output()\n",
    "    \n",
    "    # convert Graph to residual Graph \n",
    "    converted_Graph = convert_graph(Graph, uploaded_edges)\n",
    "                                    \n",
    "    # execute Ford-Fulkerson Algorithm\n",
    "    graphs, df_ford_fulkerson = ford_fulkerson_algorithm(converted_Graph, start_node_slider.value, end_node_slider.value)\n",
    "    #create final flow graph\n",
    "    graphs.append(adjust_weight_final_flow_graph(Graph, graphs[-1]))\n",
    "    \n",
    "    # display start and end node in different color\n",
    "    color_nodes = define_node_colors(Graph, end_node_slider, start_node_slider)\n",
    "\n",
    "    #Display result from Ford Fulkerson\n",
    "    for i in range(0, len(graphs)):\n",
    "        #decide on visual parameters to draw network (final Graph different)\n",
    "        if i != len(graphs)-1:\n",
    "            options = options_residual \n",
    "            edge_label_options = edge_label_options_residual\n",
    "        elif i == len(graphs)-1:\n",
    "            options = options_final\n",
    "            edge_label_options = edge_label_options_original\n",
    "            \n",
    "        #get variable plot variables\n",
    "        colors_edges = nx.get_edge_attributes(graphs[i], 'color').values()\n",
    "        colors_edges = 'black' if len(colors_edges) == 0 else colors_edges\n",
    "        labels = nx.get_edge_attributes(graphs[i], 'weight')\n",
    "\n",
    "        #draw graph on plot\n",
    "        nx.draw(graphs[i], pos, **options, edge_color=colors_edges, node_color=color_nodes)\n",
    "        nx.draw_networkx_edge_labels(graphs[i], pos, edge_labels=labels, **edge_label_options)\n",
    "\n",
    "        with display_ford_fulkerson:\n",
    "            if i == 0:\n",
    "                display(Markdown('## Adjusted Residual Network'))\n",
    "            elif i == len(graphs)-1:\n",
    "                display(Markdown('## Final Flow Network'))\n",
    "            else:\n",
    "                display(Markdown('## ' + str(i) + '. Iteration'))\n",
    "                print(df_ford_fulkerson.iloc[i - 1, 1:].to_string())\n",
    "            plt.show()\n",
    "            \n",
    "    with display_ford_fulkerson:\n",
    "        if len(df_ford_fulkerson)== 0:\n",
    "            display(Markdown('No augmenting Path found.'))\n",
    "        else:\n",
    "            display(df_ford_fulkerson.style.hide_index())\n",
    "            display(Markdown('#### The accumulated maximal Flow is ' + str(df_ford_fulkerson.iloc[:,-1].sum()) +' Units.'))"
   ]
  },
  {
   "cell_type": "code",
   "execution_count": 4,
   "id": "31b92ec8-fba3-4115-a7dd-9f604d3697f2",
   "metadata": {
    "tags": []
   },
   "outputs": [],
   "source": [
    "# functions to shorten code\n",
    "def read_uploaded_variables(change):\n",
    "    # read txt-Data and execute as code, get the some values\n",
    "    for key in change['new']:\n",
    "        string = change['new'][key]['content'].decode('utf-8')\n",
    "        var_to_value = {}\n",
    "        exec(string, var_to_value)\n",
    "        \n",
    "        #get variables\n",
    "        pos = var_to_value['pos']\n",
    "        uploaded_edges = var_to_value['edges']\n",
    "        start_node = var_to_value['start_node']\n",
    "        end_node = var_to_value['end_node']\n",
    "    return start_node, end_node, uploaded_edges, pos\n",
    "\n",
    "\n",
    "def create_start_end_node_sliders(Graph, start_node):\n",
    "    # if start/end node is given take these, else take the first and the last node\n",
    "    first_node = min(Graph.nodes)\n",
    "    # definiton slider\n",
    "    start_node_slider = widgets.IntSlider(value=start_node, min=first_node, max=Graph.number_of_nodes(),\n",
    "                                          description='Startnode:', continuous_update=False)\n",
    "    #gets changed to end node to activate oberserve function\n",
    "    end_node_slider = widgets.IntSlider(value=start_node, min=first_node, max=Graph.number_of_nodes(),\n",
    "                                        description='Endnode:', continuous_update=False)\n",
    "    return end_node_slider, start_node_slider\n",
    "\n",
    "def define_node_colors(Graph, end_node_slider, start_node_slider):\n",
    "    color_nodes = []\n",
    "    #define color start and end_node\n",
    "    for i in Graph.nodes:\n",
    "        if start_node_slider.value == i:\n",
    "            color_nodes.append(start_node_color)\n",
    "        elif end_node_slider.value == i:\n",
    "            color_nodes.append(end_node_color)\n",
    "        else:\n",
    "            color_nodes.append(standard_node_color)\n",
    "    return color_nodes\n",
    "\n",
    "def convert_graph(Graph, uploaded_edges):\n",
    "    converted_Graph = Graph.copy()\n",
    "    copy_uploaded_edges = uploaded_edges.copy()\n",
    "    weight = 0\n",
    "    end_node_id = 1\n",
    "    start_node_id = 0\n",
    "    \n",
    "    #creade inverse edges\n",
    "    for i in range(0, len(uploaded_edges)):\n",
    "        copy_uploaded_edges.append((uploaded_edges[i][end_node_id], uploaded_edges[i][start_node_id], weight))\n",
    "\n",
    "    converted_Graph.add_weighted_edges_from(copy_uploaded_edges)\n",
    "    return converted_Graph\n",
    "\n",
    "\n",
    "def adjust_weight_final_flow_graph(original_Graph, Graph_last_iteration):\n",
    "    final_Graph = original_Graph.copy()\n",
    "    \n",
    "    # create graph without inverse edges (only edges in uploaded graph)\n",
    "    # display used capacity in edge-weight-label as used _apacity/ max_capacity\n",
    "    for start_edge, end_edge in final_Graph.edges():\n",
    "        if (start_edge, end_edge) in Graph_last_iteration.edges():\n",
    "            final_Graph[start_edge][end_edge]['weight'] = str(\n",
    "                Graph_last_iteration[end_edge][start_edge]['weight']) + '/' + str(\n",
    "                final_Graph[start_edge][end_edge]['weight'])\n",
    "    return final_Graph\n",
    "\n",
    "\n"
   ]
  },
  {
   "cell_type": "code",
   "execution_count": 5,
   "id": "8f8e797f-4cdf-40a7-b924-2093a3818486",
   "metadata": {
    "tags": []
   },
   "outputs": [
    {
     "data": {
      "text/markdown": [
       "# Ford-Fulkerson Algorithm"
      ],
      "text/plain": [
       "<IPython.core.display.Markdown object>"
      ]
     },
     "metadata": {},
     "output_type": "display_data"
    },
    {
     "data": {
      "text/markdown": [
       "Upload your Graph:"
      ],
      "text/plain": [
       "<IPython.core.display.Markdown object>"
      ]
     },
     "metadata": {},
     "output_type": "display_data"
    },
    {
     "data": {
      "application/vnd.jupyter.widget-view+json": {
       "model_id": "9f6fbb6c6bb64845a2e0ea7be86471d4",
       "version_major": 2,
       "version_minor": 0
      },
      "text/plain": [
       "FileUpload(value={}, accept='.txt', description='Upload')"
      ]
     },
     "metadata": {},
     "output_type": "display_data"
    },
    {
     "data": {
      "application/vnd.jupyter.widget-view+json": {
       "model_id": "06ad7e82e78649de96d7f24ce544a7fd",
       "version_major": 2,
       "version_minor": 0
      },
      "text/plain": [
       "Output()"
      ]
     },
     "metadata": {},
     "output_type": "display_data"
    },
    {
     "data": {
      "application/vnd.jupyter.widget-view+json": {
       "model_id": "88e29d737cf841159e84ab5c9446fde8",
       "version_major": 2,
       "version_minor": 0
      },
      "text/plain": [
       "Output()"
      ]
     },
     "metadata": {},
     "output_type": "display_data"
    }
   ],
   "source": [
    "#Create Widgets on start\n",
    "display_input = widgets.Output()\n",
    "display_ford_fulkerson = widgets.Output()\n",
    "uploader = widgets.FileUpload(accept='.txt', multiple=False )\n",
    "\n",
    "#create empty Graph\n",
    "G = nx.DiGraph()\n",
    "\n",
    "#Displayed Widgets\n",
    "display(Markdown('# Ford-Fulkerson Algorithm')) \n",
    "display(Markdown('Upload your Graph:')) \n",
    "display(uploader)\n",
    "display(display_input)\n",
    "display(display_ford_fulkerson)\n",
    "\n",
    "#when Graph uploaded, use Prim Algorithm and Display result\n",
    "uploader.observe(functools.partial(display_uploaded_graph, Graph = G, \n",
    "                                   display_input =display_input, \n",
    "                                   display_ford_fulkerson= display_ford_fulkerson), \n",
    "                 names = 'value')"
   ]
  },
  {
   "cell_type": "code",
   "execution_count": 7,
   "id": "20deb29d-4e2c-4a2e-959d-d267794dee51",
   "metadata": {
    "tags": []
   },
   "outputs": [
    {
     "data": {
      "text/markdown": [
       "### Legend"
      ],
      "text/plain": [
       "<IPython.core.display.Markdown object>"
      ]
     },
     "metadata": {},
     "output_type": "display_data"
    },
    {
     "data": {
      "text/markdown": [
       "#### Original Network"
      ],
      "text/plain": [
       "<IPython.core.display.Markdown object>"
      ]
     },
     "metadata": {},
     "output_type": "display_data"
    },
    {
     "name": "stdout",
     "output_type": "stream",
     "text": [
      "u(i,j) = Capacity\n"
     ]
    },
    {
     "data": {
      "image/png": "[encoded data removed]",
      "text/plain": [
       "<Figure size 360x120 with 1 Axes>"
      ]
     },
     "metadata": {},
     "output_type": "display_data"
    },
    {
     "data": {
      "text/markdown": [
       "#### Residual Network"
      ],
      "text/plain": [
       "<IPython.core.display.Markdown object>"
      ]
     },
     "metadata": {},
     "output_type": "display_data"
    },
    {
     "name": "stdout",
     "output_type": "stream",
     "text": [
      "uf(i,j) = Residual Capacity\n"
     ]
    },
    {
     "data": {
      "image/png": "[encoded data removed]",
      "text/plain": [
       "<Figure size 360x120 with 1 Axes>"
      ]
     },
     "metadata": {},
     "output_type": "display_data"
    },
    {
     "data": {
      "text/markdown": [
       "#### Maximal Flow Network"
      ],
      "text/plain": [
       "<IPython.core.display.Markdown object>"
      ]
     },
     "metadata": {},
     "output_type": "display_data"
    },
    {
     "name": "stdout",
     "output_type": "stream",
     "text": [
      "f(i,j) = Flow\n",
      "u(i,j) = Capacity\n"
     ]
    },
    {
     "data": {
      "image/png": "[encoded data removed]",
      "text/plain": [
       "<Figure size 360x120 with 1 Axes>"
      ]
     },
     "metadata": {},
     "output_type": "display_data"
    }
   ],
   "source": [
    "#Legend\n",
    "\n",
    "# explicitly set positions\n",
    "pos = {\"i\": (0, 0), \"j\": (1, 0)}\n",
    "\n",
    "\n",
    "#Original Network\n",
    "G = nx.DiGraph()\n",
    "fig = plt.gcf()\n",
    "fig.set_size_inches(6, 2)\n",
    "\n",
    "G.add_edge(\"i\", \"j\", weight = \"u(i,j)\")\n",
    "edge_labels = nx.get_edge_attributes(G,'weight')\n",
    "nx.draw(G, pos, **options_original) \n",
    "nx.draw_networkx_edge_labels(G, pos, edge_labels=edge_labels, **edge_label_options_original)\n",
    "           \n",
    "\n",
    "display(Markdown('### Legend')) \n",
    "display(Markdown('#### Original Network')) \n",
    "print(\"u(i,j) = Capacity\")\n",
    "plt.show()\n",
    "\n",
    "\n",
    "\n",
    "#Residual Network\n",
    "G = nx.DiGraph()\n",
    "fig = plt.gcf()\n",
    "fig.set_size_inches(6, 2)\n",
    "\n",
    "G.add_edge(\"i\", \"j\", weight = \"$u_f(i,j)$\")\n",
    "G.add_edge(\"j\", \"i\", weight = \"$u_f(j,i)$\")\n",
    "nx.draw(G, pos, **options_residual, node_color = standard_node_color)\n",
    "edge_labels = nx.get_edge_attributes(G,'weight') \n",
    "nx.draw_networkx_edge_labels(G, pos, edge_labels=edge_labels, **edge_label_options_residual)\n",
    "           \n",
    "display(Markdown('#### Residual Network')) \n",
    "print(\"uf(i,j) = Residual Capacity\")\n",
    "plt.show()\n",
    "\n",
    "\n",
    "\n",
    "#Maximal Flow Network\n",
    "G = nx.DiGraph()\n",
    "fig = plt.gcf()\n",
    "fig.set_size_inches(6, 2)\n",
    "\n",
    "G.add_edge(\"i\", \"j\", weight = \"f(i,j)/u(i,j)\")\n",
    "edge_labels = nx.get_edge_attributes(G,'weight')\n",
    "nx.draw(G, pos, **options_original) \n",
    "nx.draw_networkx_edge_labels(G, pos, edge_labels=edge_labels, **edge_label_options_original)\n",
    "           \n",
    "\n",
    "display(Markdown('#### Maximal Flow Network'))\n",
    "print(\"f(i,j) = Flow\")\n",
    "print(\"u(i,j) = Capacity\")\n",
    "plt.show()\n",
    "\n",
    "\n"
   ]
  },
  {
   "cell_type": "code",
   "execution_count": null,
   "id": "58234731-36af-401a-aacc-49fe25b3f170",
   "metadata": {},
   "outputs": [],
   "source": []
  }
 ],
 "metadata": {
  "kernelspec": {
   "display_name": "Python 3 (ipykernel)",
   "language": "python",
   "name": "python3"
  },
  "language_info": {
   "codemirror_mode": {
    "name": "ipython",
    "version": 3
   },
   "file_extension": ".py",
   "mimetype": "text/x-python",
   "name": "python",
   "nbconvert_exporter": "python",
   "pygments_lexer": "ipython3",
   "version": "3.9.6"
  }
 },
 "nbformat": 4,
 "nbformat_minor": 5
}
